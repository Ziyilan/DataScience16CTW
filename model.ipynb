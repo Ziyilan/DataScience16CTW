{
 "cells": [
  {
   "cell_type": "code",
   "execution_count": 1,
   "metadata": {
    "collapsed": true
   },
   "outputs": [],
   "source": [
    "%matplotlib inline\n",
    "\n",
    "import pandas as pd\n",
    "import numpy as np\n",
    "import matplotlib.pyplot as plt"
   ]
  },
  {
   "cell_type": "code",
   "execution_count": 2,
   "metadata": {
    "collapsed": false
   },
   "outputs": [],
   "source": [
    "b = pd.read_csv('brfss2014_short.csv')"
   ]
  },
  {
   "cell_type": "code",
   "execution_count": 67,
   "metadata": {
    "collapsed": false
   },
   "outputs": [],
   "source": [
    "# Get rid of special codes like \"did not answer\" or \"don't know\"\n",
    "# We may want to look into replacing these with the median value or something\n",
    "# b = b[b.children != 88]\n",
    "b = b[b.children != 89]\n",
    "b = b[b.children != 99]\n",
    "b = b[b.sleptim1 != 77]\n",
    "b = b[b.sleptim1 != 99]\n",
    "b = b[b.marital != 9]\n",
    "b = b[b.employ1 != 9]\n",
    "b = b[b.income2 != 77]\n",
    "b = b[b.income2 != 99]\n",
    "b = b[b.weight2 != 9999]\n",
    "b = b[b.useequip != 7]\n",
    "b = b[b.useequip != 9]\n",
    "b = b[b['x.ageg5yr'] != 14]"
   ]
  },
  {
   "cell_type": "code",
   "execution_count": 4,
   "metadata": {
    "collapsed": false
   },
   "outputs": [
    {
     "data": {
      "text/html": [
       "<div>\n",
       "<table border=\"1\" class=\"dataframe\">\n",
       "  <thead>\n",
       "    <tr style=\"text-align: right;\">\n",
       "      <th></th>\n",
       "      <th>Unnamed: 0</th>\n",
       "      <th>x.state</th>\n",
       "      <th>fmonth</th>\n",
       "      <th>idate</th>\n",
       "      <th>imonth</th>\n",
       "      <th>iday</th>\n",
       "      <th>iyear</th>\n",
       "      <th>dispcode</th>\n",
       "      <th>seqno</th>\n",
       "      <th>x.psu</th>\n",
       "      <th>...</th>\n",
       "      <th>x.fobtfs</th>\n",
       "      <th>x.crcrec</th>\n",
       "      <th>x.aidtst3</th>\n",
       "      <th>x.impeduc</th>\n",
       "      <th>x.impmrtl</th>\n",
       "      <th>x.imphome</th>\n",
       "      <th>rcsbrac1</th>\n",
       "      <th>rcsrace1</th>\n",
       "      <th>rchisla1</th>\n",
       "      <th>rcsbirth</th>\n",
       "    </tr>\n",
       "  </thead>\n",
       "  <tbody>\n",
       "    <tr>\n",
       "      <th>0</th>\n",
       "      <td>1</td>\n",
       "      <td>1</td>\n",
       "      <td>1</td>\n",
       "      <td>1172014</td>\n",
       "      <td>1</td>\n",
       "      <td>17</td>\n",
       "      <td>2014</td>\n",
       "      <td>1100</td>\n",
       "      <td>2014000001</td>\n",
       "      <td>2014000001</td>\n",
       "      <td>...</td>\n",
       "      <td>2</td>\n",
       "      <td>1</td>\n",
       "      <td>2</td>\n",
       "      <td>5</td>\n",
       "      <td>1</td>\n",
       "      <td>1</td>\n",
       "      <td>NaN</td>\n",
       "      <td>NaN</td>\n",
       "      <td>NaN</td>\n",
       "      <td>NaN</td>\n",
       "    </tr>\n",
       "    <tr>\n",
       "      <th>1</th>\n",
       "      <td>2</td>\n",
       "      <td>1</td>\n",
       "      <td>1</td>\n",
       "      <td>1072014</td>\n",
       "      <td>1</td>\n",
       "      <td>7</td>\n",
       "      <td>2014</td>\n",
       "      <td>1100</td>\n",
       "      <td>2014000002</td>\n",
       "      <td>2014000002</td>\n",
       "      <td>...</td>\n",
       "      <td>2</td>\n",
       "      <td>2</td>\n",
       "      <td>2</td>\n",
       "      <td>4</td>\n",
       "      <td>1</td>\n",
       "      <td>1</td>\n",
       "      <td>NaN</td>\n",
       "      <td>NaN</td>\n",
       "      <td>NaN</td>\n",
       "      <td>NaN</td>\n",
       "    </tr>\n",
       "    <tr>\n",
       "      <th>2</th>\n",
       "      <td>3</td>\n",
       "      <td>1</td>\n",
       "      <td>1</td>\n",
       "      <td>1092014</td>\n",
       "      <td>1</td>\n",
       "      <td>9</td>\n",
       "      <td>2014</td>\n",
       "      <td>1100</td>\n",
       "      <td>2014000003</td>\n",
       "      <td>2014000003</td>\n",
       "      <td>...</td>\n",
       "      <td>2</td>\n",
       "      <td>2</td>\n",
       "      <td>2</td>\n",
       "      <td>6</td>\n",
       "      <td>1</td>\n",
       "      <td>1</td>\n",
       "      <td>NaN</td>\n",
       "      <td>NaN</td>\n",
       "      <td>NaN</td>\n",
       "      <td>NaN</td>\n",
       "    </tr>\n",
       "    <tr>\n",
       "      <th>3</th>\n",
       "      <td>4</td>\n",
       "      <td>1</td>\n",
       "      <td>1</td>\n",
       "      <td>1072014</td>\n",
       "      <td>1</td>\n",
       "      <td>7</td>\n",
       "      <td>2014</td>\n",
       "      <td>1100</td>\n",
       "      <td>2014000004</td>\n",
       "      <td>2014000004</td>\n",
       "      <td>...</td>\n",
       "      <td>2</td>\n",
       "      <td>1</td>\n",
       "      <td>2</td>\n",
       "      <td>6</td>\n",
       "      <td>3</td>\n",
       "      <td>1</td>\n",
       "      <td>NaN</td>\n",
       "      <td>NaN</td>\n",
       "      <td>NaN</td>\n",
       "      <td>NaN</td>\n",
       "    </tr>\n",
       "    <tr>\n",
       "      <th>4</th>\n",
       "      <td>5</td>\n",
       "      <td>1</td>\n",
       "      <td>1</td>\n",
       "      <td>1162014</td>\n",
       "      <td>1</td>\n",
       "      <td>16</td>\n",
       "      <td>2014</td>\n",
       "      <td>1100</td>\n",
       "      <td>2014000005</td>\n",
       "      <td>2014000005</td>\n",
       "      <td>...</td>\n",
       "      <td>2</td>\n",
       "      <td>1</td>\n",
       "      <td>2</td>\n",
       "      <td>5</td>\n",
       "      <td>1</td>\n",
       "      <td>1</td>\n",
       "      <td>NaN</td>\n",
       "      <td>NaN</td>\n",
       "      <td>NaN</td>\n",
       "      <td>NaN</td>\n",
       "    </tr>\n",
       "  </tbody>\n",
       "</table>\n",
       "<p>5 rows × 280 columns</p>\n",
       "</div>"
      ],
      "text/plain": [
       "   Unnamed: 0  x.state  fmonth    idate  imonth  iday  iyear  dispcode  \\\n",
       "0           1        1       1  1172014       1    17   2014      1100   \n",
       "1           2        1       1  1072014       1     7   2014      1100   \n",
       "2           3        1       1  1092014       1     9   2014      1100   \n",
       "3           4        1       1  1072014       1     7   2014      1100   \n",
       "4           5        1       1  1162014       1    16   2014      1100   \n",
       "\n",
       "        seqno       x.psu    ...     x.fobtfs  x.crcrec  x.aidtst3  x.impeduc  \\\n",
       "0  2014000001  2014000001    ...            2         1          2          5   \n",
       "1  2014000002  2014000002    ...            2         2          2          4   \n",
       "2  2014000003  2014000003    ...            2         2          2          6   \n",
       "3  2014000004  2014000004    ...            2         1          2          6   \n",
       "4  2014000005  2014000005    ...            2         1          2          5   \n",
       "\n",
       "   x.impmrtl  x.imphome  rcsbrac1  rcsrace1  rchisla1  rcsbirth  \n",
       "0          1          1       NaN       NaN       NaN       NaN  \n",
       "1          1          1       NaN       NaN       NaN       NaN  \n",
       "2          1          1       NaN       NaN       NaN       NaN  \n",
       "3          3          1       NaN       NaN       NaN       NaN  \n",
       "4          1          1       NaN       NaN       NaN       NaN  \n",
       "\n",
       "[5 rows x 280 columns]"
      ]
     },
     "execution_count": 4,
     "metadata": {},
     "output_type": "execute_result"
    }
   ],
   "source": [
    "b.head()"
   ]
  },
  {
   "cell_type": "code",
   "execution_count": 100,
   "metadata": {
    "collapsed": false
   },
   "outputs": [
    {
     "name": "stdout",
     "output_type": "stream",
     "text": [
      "Number of rows: 7654\n",
      "Number of columns: 280\n"
     ]
    }
   ],
   "source": [
    "print \"Number of rows:\", len(b)\n",
    "print \"Number of columns:\", len(b.columns)"
   ]
  },
  {
   "cell_type": "markdown",
   "metadata": {},
   "source": [
    "These are the relevant rows that we'll be looking at:"
   ]
  },
  {
   "cell_type": "code",
   "execution_count": 71,
   "metadata": {
    "collapsed": false
   },
   "outputs": [],
   "source": [
    "sleptim = b['sleptim1']\n",
    "marital = b['marital']\n",
    "children = b['children']\n",
    "employ = b['employ1']\n",
    "income = b['income2']\n",
    "weight = b['weight2']\n",
    "height = b['height3']\n",
    "sex = b['sex']\n",
    "useequip = b['useequip']\n",
    "age = b['x.ageg5yr']"
   ]
  },
  {
   "cell_type": "code",
   "execution_count": 72,
   "metadata": {
    "collapsed": false
   },
   "outputs": [
    {
     "data": {
      "text/plain": [
       "9     946\n",
       "10    902\n",
       "8     878\n",
       "7     825\n",
       "11    651\n",
       "6     575\n",
       "5     494\n",
       "13    467\n",
       "12    431\n",
       "4     413\n",
       "3     388\n",
       "2     352\n",
       "1     332\n",
       "Name: x.ageg5yr, dtype: int64"
      ]
     },
     "execution_count": 72,
     "metadata": {},
     "output_type": "execute_result"
    }
   ],
   "source": [
    "age.value_counts()"
   ]
  },
  {
   "cell_type": "markdown",
   "metadata": {},
   "source": [
    "Demographic Average:"
   ]
  },
  {
   "cell_type": "code",
   "execution_count": 103,
   "metadata": {
    "collapsed": false
   },
   "outputs": [
    {
     "name": "stdout",
     "output_type": "stream",
     "text": [
      "number in this demographic: 51\n"
     ]
    },
    {
     "data": {
      "text/plain": [
       "6.3137254901960782"
      ]
     },
     "execution_count": 103,
     "metadata": {},
     "output_type": "execute_result"
    }
   ],
   "source": [
    "def getAgeCat(age):\n",
    "    \"\"\"\n",
    "    Returns the age category number to use in the dataset given\n",
    "    an actual integer age.\n",
    "    \"\"\"\n",
    "    if age <= 24: return 1\n",
    "    if age <= 29: return 2\n",
    "    if age <= 34: return 3\n",
    "    if age <= 39: return 4\n",
    "    if age <= 44: return 5\n",
    "    if age <= 49: return 6\n",
    "    if age <= 54: return 7\n",
    "    if age <= 59: return 8\n",
    "    if age <= 64: return 9\n",
    "    if age <= 69: return 10\n",
    "    if age <= 74: return 11\n",
    "    if age <= 79: return 12\n",
    "    return 13\n",
    "\n",
    "# Employment Code:\n",
    "# 1: Employed for wages\n",
    "# 2: Self-employed\n",
    "# 3: Out of work for 1 year or more\n",
    "# 4: Out of work for less than 1 year\n",
    "# 5: A homemaker\n",
    "# 6: A student\n",
    "# 7: Retired\n",
    "# 8: Unable to work\n",
    "# 9: Refused\n",
    "\n",
    "def getSleep(age, sex, married, children, employment):\n",
    "    \"\"\"\n",
    "    Returns the average sleep that a person with given\n",
    "    demographic parameters gets per night.\n",
    "    age: int\n",
    "    sex: int where 1 is male and 2 is female\n",
    "    married: boolean whether they're married\n",
    "    children: boolean whether they have children\n",
    "    employment: int describing emplyment according to above code\n",
    "    \"\"\"\n",
    "    df = b.copy()\n",
    "    df = df[df.sex == sex]\n",
    "    df = df[df['x.ageg5yr'] == getAgeCat(age)]\n",
    "    if married:\n",
    "        df = df[df.marital == 1]\n",
    "    else:\n",
    "        df = df[df.marital != 1]\n",
    "    if children:\n",
    "        df = df[df.children != 88]\n",
    "    else:\n",
    "        df = df[df.children == 88]\n",
    "    df = df[df.employ1 == employment]\n",
    "    print \"number in this demographic:\",len(df)\n",
    "    return df['sleptim1'].mean()\n",
    "getSleep(23,1, False, False, 1)"
   ]
  },
  {
   "cell_type": "markdown",
   "metadata": {},
   "source": [
    "Random Forest:"
   ]
  },
  {
   "cell_type": "code",
   "execution_count": 63,
   "metadata": {
    "collapsed": false,
    "scrolled": true
   },
   "outputs": [
    {
     "name": "stdout",
     "output_type": "stream",
     "text": [
      "total accurate: 1381\n",
      "accuracy percent: 0.179981754203\n",
      "0.270799302283\n"
     ]
    }
   ],
   "source": [
    "# predictors = ['marital', 'children', 'employ1', 'income2', 'weight2', 'height3', 'sex', 'useequip']\n",
    "predictors = ['marital', 'children', 'employ1', 'sex', 'x.ageg5yr']\n",
    "\n",
    "b = b.dropna(subset=predictors)\n",
    "\n",
    "# Initialize our algorithm class\n",
    "# alg = LinearRegression()\n",
    "alg = RandomForestClassifier()\n",
    "# Generate cross validation folds for the titanic dataset.  It return the row indices corresponding to train and test.\n",
    "# We set random_state to ensure we get the same splits every time we run this.\n",
    "# kf = KFold(b.shape[0], n_folds=3, random_state=1)\n",
    "kf = KFold(b.shape[0], n_folds=3)\n",
    "\n",
    "predictions = []\n",
    "for train, test in kf:\n",
    "    # The predictors we're using the train the algorithm.  Note how we only take the rows in the train folds.\n",
    "    train_predictors = (b[predictors].iloc[train,:])\n",
    "    # The target we're using to train the algorithm.\n",
    "    train_target = b[\"sleptim1\"].iloc[train]\n",
    "    # Training the algorithm using the predictors and target.\n",
    "    alg.fit(train_predictors, train_target)\n",
    "    # We can now make predictions on the test fold\n",
    "    test_predictions = alg.predict(b[predictors].iloc[test,:])\n",
    "    predictions.append(test_predictions)\n",
    "    \n",
    "# The predictions are in three separate numpy arrays.  Concatenate them into one.  \n",
    "# We concatenate them on axis 0, as they only have one axis.\n",
    "predictions = np.concatenate(predictions, axis=0)\n",
    "\n",
    "# Map predictions to outcomes (only possible outcomes are integers)\n",
    "# predictions[predictions > .5] = 1\n",
    "# predictions[predictions <=.5] = 0\n",
    "# predictions[predictions > 1] = 8\n",
    "# print predictions[:10]\n",
    "# print b['sleptim1'][:10]\n",
    "\n",
    "\n",
    "\n",
    "# print predictions[predictions == b[\"sleptim1\"]][:10]\n",
    "\n",
    "tot = 0\n",
    "# for i in range(len(predictions)):\n",
    "#     if predictions[i] == b['sleptim1'][i]:\n",
    "#         tot += 1\n",
    "\n",
    "for index, row in b.iterrows():\n",
    "    if index < len(b):\n",
    "        if predictions[index] == row['sleptim1']:\n",
    "#         if 8 == row['sleptim1']:\n",
    "            tot += 1\n",
    "#     else:\n",
    "#         print 'bad sleptim:',row['sleptim1']\n",
    "print 'total accurate:',tot\n",
    "print 'accuracy percent:', float(tot)/ len(predictions)  \n",
    "\n",
    "# accuracy = sum(predictions[predictions == b[\"sleptim1\"]]) / float(len(predictions))\n",
    "# print accuracy\n",
    "\n",
    "# Initialize our algorithm\n",
    "# alg = LogisticRegression(random_state=1)\n",
    "# alg = RandomForestClassifier(random_state=1, n_estimators=150, min_samples_split=8, min_samples_leaf=4)\n",
    "alg = RandomForestClassifier()\n",
    "\n",
    "# Compute the accuracy score for all the cross validation folds.  (much simpler than what we did before!)\n",
    "scores = cross_validation.cross_val_score(alg, b[predictors], b[\"sleptim1\"], cv=3)\n",
    "# Take the mean of the scores (because we have one for each fold)\n",
    "print scores.mean()"
   ]
  },
  {
   "cell_type": "markdown",
   "metadata": {},
   "source": []
  }
 ],
 "metadata": {
  "kernelspec": {
   "display_name": "Python 2",
   "language": "python",
   "name": "python2"
  },
  "language_info": {
   "codemirror_mode": {
    "name": "ipython",
    "version": 2
   },
   "file_extension": ".py",
   "mimetype": "text/x-python",
   "name": "python",
   "nbconvert_exporter": "python",
   "pygments_lexer": "ipython2",
   "version": "2.7.11"
  }
 },
 "nbformat": 4,
 "nbformat_minor": 0
}
