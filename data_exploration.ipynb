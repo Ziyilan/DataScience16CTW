{
 "cells": [
  {
   "cell_type": "code",
   "execution_count": 3,
   "metadata": {
    "collapsed": true
   },
   "outputs": [],
   "source": [
    "import pandas as pd\n",
    "import numpy as np"
   ]
  },
  {
   "cell_type": "code",
   "execution_count": 5,
   "metadata": {
    "collapsed": false
   },
   "outputs": [
    {
     "data": {
      "text/plain": [
       "Index([u'Year', u'LocationAbbr', u'LocationDesc', u'Category', u'Topic',\n",
       "       u'Question', u'DataSource', u'Data_Value_Unit', u'Data_Value_Type',\n",
       "       u'Data_Value', u'Data_Value_Footnote_Symbol', u'Data_Value_Footnote',\n",
       "       u'Data_Value_Std_Err', u'Low_Confidence_Limit',\n",
       "       u'High_Confidence_Limit', u'Sample_Size', u'Break_Out',\n",
       "       u'Break_Out_Category', u'GeoLocation', u'CategoryId', u'TopicId',\n",
       "       u'QuestionId', u'LocationId', u'BreakOutId', u'BreakOutCategoryid'],\n",
       "      dtype='object')"
      ]
     },
     "execution_count": 5,
     "metadata": {},
     "output_type": "execute_result"
    }
   ],
   "source": [
    "health = pandas.read_csv('Behavioral_Risk_Factor_Data__Health-Related_Quality_of_Life__HRQOL_.csv')\n",
    "\n",
    "health.head()\n",
    "health.columns"
   ]
  },
  {
   "cell_type": "code",
   "execution_count": 7,
   "metadata": {
    "collapsed": false
   },
   "outputs": [
    {
     "data": {
      "text/plain": [
       "Index([u'Year', u'Locationabbr', u'Locationdesc', u'Class', u'Topic',\n",
       "       u'Question', u'Response', u'Break_Out', u'Break_Out_Category',\n",
       "       u'Sample_Size', u'Data_value', u'Confidence_limit_Low',\n",
       "       u'Confidence_limit_High', u'Display_order', u'Data_value_unit',\n",
       "       u'Data_value_type', u'Data_Value_Footnote_Symbol',\n",
       "       u'Data_Value_Footnote', u'DataSource', u'ClassId', u'TopicId',\n",
       "       u'LocationID', u'BreakoutID', u'BreakOutCategoryID', u'QuestionID',\n",
       "       u'ResponseID', u'GeoLocation'],\n",
       "      dtype='object')"
      ]
     },
     "execution_count": 7,
     "metadata": {},
     "output_type": "execute_result"
    }
   ],
   "source": [
    "prev = pandas.read_csv('Behavioral_Risk_Factor_Surveillance_System__BRFSS__Prevalence_Data__2011_to_present_.csv')\n",
    "\n",
    "prev.head()\n",
    "prev.columns"
   ]
  },
  {
   "cell_type": "code",
   "execution_count": 8,
   "metadata": {
    "collapsed": false
   },
   "outputs": [
    {
     "data": {
      "text/plain": [
       "What is your employment status?                                                                                          28946\n",
       "What is your marital status?                                                                                             21761\n",
       "How many children live in your household?                                                                                21611\n",
       "How is your general health?                                                                                              18260\n",
       "What is your age?                                                                                                        17172\n",
       "What is your annual household income?                                                                                    15104\n",
       "What is your race/ethnicity?                                                                                             15035\n",
       "Four Level Smoking Status                                                                                                14618\n",
       "Weight classification by Body Mass Index (BMI)                                                                           14570\n",
       "Have you ever been told by a doctor that you have diabetes?                                                              14177\n",
       "What is the highest grade or year of school you completed?                                                               12719\n",
       "During the past month, did you participate in any physical activities?                                                    7321\n",
       "Adults who have ever been told they have asthma                                                                           7320\n",
       "Adults who have been told they have arthritis                                                                             7320\n",
       "Adults who are limited in any activities because of physical, mental, or emotional problems                               7320\n",
       "Adults who have had at least one drink of alcohol within the past 30 days                                                 7319\n",
       "Ever told you that you have a form of depression?                                                                         7319\n",
       "Health Status                                                                                                             7319\n",
       "Do you have any kind of health care coverage?                                                                             7318\n",
       "Adults who are current smokers                                                                                            7317\n",
       "Binge drinkers (males having five or more drinks on one occasion, females having four or more drinks on one occasion)     7317\n",
       "Adults who have been told they currently have asthma                                                                      7315\n",
       "Ever told you have COPD?                                                                                                  7312\n",
       "Adults with health problem(s) that requires the use of special equipment                                                  7311\n",
       "Heavy drinkers (adult men having more than two drinks per day and adult women having more than one drink per day)         7307\n",
       "Ever told you had any other types of cancer?                                                                              7301\n",
       "Adults who have had their blood cholesterol checked within the last five years                                            7297\n",
       "Ever told you have kidney disease?                                                                                        7274\n",
       "Ever told you had a heart attack (myocardial infarction)?                                                                 7265\n",
       "Ever told you had a stroke?                                                                                               7261\n",
       "                                                                                                                         ...  \n",
       "Adults who have had their blood cholesterol checked and have been told it was high                                        4880\n",
       "Participated Muscle Strengthening exercises more than twice  per week                                                     4879\n",
       "Participated in enough Aerobic and Muscle Strengthening exercises to meet guidelines                                      4879\n",
       "Since 2005, have you had a tetanus shot?                                                                                  4875\n",
       "Does arthritis or joint symptoms interfere with your normal social activities?                                            4856\n",
       "Are you now limited in any way in any of your usual activities because of arthritis?                                      3658\n",
       "Do you have one person you think of as your personal doctor or health care provider?                                      3657\n",
       "Do you own or rent your home?                                                                                             3656\n",
       "Do arthritis or joint symptoms now affect whether you work?                                                               3656\n",
       "Do you currently use chewing tobacco, snuff, or snus?                                                                     3573\n",
       "Have you used the internet in the past 30 days?                                                                           2441\n",
       "Consumed fruit less than one time per day                                                                                 2441\n",
       "Consumed vegetables less than one time per day                                                                            2441\n",
       "Have you ever served on active duty in the United States Armed Forces?                                                    2440\n",
       "Have you ever been tested for HIV?                                                                                        2440\n",
       "Visited the dentist or dental clinic within the past year for any reason                                                  2440\n",
       "Do you have serious difficulty walking or climbing stairs?                                                                2440\n",
       "Was there a time in the past 12 months when you needed to see a doctor but could not because of cost?                     2439\n",
       "Adults that have had any permanent teeth extracted                                                                        2439\n",
       "Do you have serious difficulty concentrating, remembering, or making decisions?                                           2439\n",
       "Do you have difficulty doing errands alone?                                                                               2437\n",
       "Are you blind or do you have serious difficulty seeing, even when wearing glasses?                                        2435\n",
       "Do you have difficulty dressing or bathing?                                                                               2430\n",
       "Women aged 18+ who have had a pap test within the past three years                                                        2331\n",
       "Adults aged 50+ who have ever had a sigmoidoscopy or colonoscopy                                                          2122\n",
       "Men aged 40+ who have had a PSA test within the past two years                                                            2120\n",
       "Women aged 40+ who have had a mammogram within the past two years                                                         2118\n",
       "Adults aged 50+ who have had a blood stool test within the past two years                                                 2116\n",
       "Women aged 50+ who have had a mammogram within the past two years                                                         2005\n",
       "Adults aged 65+ who have had all their natural teeth extracted                                                            2005\n",
       "Name: Question, dtype: int64"
      ]
     },
     "execution_count": 8,
     "metadata": {},
     "output_type": "execute_result"
    }
   ],
   "source": [
    "prev.Question.value_counts()"
   ]
  },
  {
   "cell_type": "code",
   "execution_count": 9,
   "metadata": {
    "collapsed": false
   },
   "outputs": [
    {
     "data": {
      "text/html": [
       "<div>\n",
       "<table border=\"1\" class=\"dataframe\">\n",
       "  <thead>\n",
       "    <tr style=\"text-align: right;\">\n",
       "      <th></th>\n",
       "      <th>Unnamed: 0</th>\n",
       "      <th>seqn</th>\n",
       "      <th>sld010h</th>\n",
       "      <th>slq050</th>\n",
       "      <th>slq060</th>\n",
       "    </tr>\n",
       "  </thead>\n",
       "  <tbody>\n",
       "    <tr>\n",
       "      <th>0</th>\n",
       "      <td>1</td>\n",
       "      <td>73557</td>\n",
       "      <td>7</td>\n",
       "      <td>1</td>\n",
       "      <td>2</td>\n",
       "    </tr>\n",
       "    <tr>\n",
       "      <th>1</th>\n",
       "      <td>2</td>\n",
       "      <td>73558</td>\n",
       "      <td>9</td>\n",
       "      <td>2</td>\n",
       "      <td>2</td>\n",
       "    </tr>\n",
       "    <tr>\n",
       "      <th>2</th>\n",
       "      <td>3</td>\n",
       "      <td>73559</td>\n",
       "      <td>8</td>\n",
       "      <td>2</td>\n",
       "      <td>2</td>\n",
       "    </tr>\n",
       "    <tr>\n",
       "      <th>3</th>\n",
       "      <td>4</td>\n",
       "      <td>73561</td>\n",
       "      <td>9</td>\n",
       "      <td>2</td>\n",
       "      <td>2</td>\n",
       "    </tr>\n",
       "    <tr>\n",
       "      <th>4</th>\n",
       "      <td>5</td>\n",
       "      <td>73562</td>\n",
       "      <td>5</td>\n",
       "      <td>2</td>\n",
       "      <td>1</td>\n",
       "    </tr>\n",
       "  </tbody>\n",
       "</table>\n",
       "</div>"
      ],
      "text/plain": [
       "   Unnamed: 0   seqn  sld010h  slq050  slq060\n",
       "0           1  73557        7       1       2\n",
       "1           2  73558        9       2       2\n",
       "2           3  73559        8       2       2\n",
       "3           4  73561        9       2       2\n",
       "4           5  73562        5       2       1"
      ]
     },
     "execution_count": 9,
     "metadata": {},
     "output_type": "execute_result"
    }
   ],
   "source": [
    "slq = pandas.read_csv('SLQ_H.csv')\n",
    "\n",
    "slq.head()"
   ]
  },
  {
   "cell_type": "markdown",
   "metadata": {},
   "source": [
    "Uhh yeah we don't know what that is"
   ]
  },
  {
   "cell_type": "code",
   "execution_count": 4,
   "metadata": {
    "collapsed": false
   },
   "outputs": [
    {
     "name": "stderr",
     "output_type": "stream",
     "text": [
      "/usr/local/lib/python2.7/dist-packages/IPython/core/interactiveshell.py:2902: DtypeWarning: Columns (121) have mixed types. Specify dtype option on import or set low_memory=False.\n",
      "  interactivity=interactivity, compiler=compiler, result=result)\n"
     ]
    }
   ],
   "source": [
    "b = pd.read_csv('brfss2014.csv')"
   ]
  },
  {
   "cell_type": "code",
   "execution_count": 9,
   "metadata": {
    "collapsed": false
   },
   "outputs": [
    {
     "data": {
      "text/html": [
       "<div>\n",
       "<table border=\"1\" class=\"dataframe\">\n",
       "  <thead>\n",
       "    <tr style=\"text-align: right;\">\n",
       "      <th></th>\n",
       "      <th>Unnamed: 0</th>\n",
       "      <th>x.state</th>\n",
       "      <th>fmonth</th>\n",
       "      <th>idate</th>\n",
       "      <th>imonth</th>\n",
       "      <th>iday</th>\n",
       "      <th>iyear</th>\n",
       "      <th>dispcode</th>\n",
       "      <th>seqno</th>\n",
       "      <th>x.psu</th>\n",
       "      <th>...</th>\n",
       "      <th>x.fobtfs</th>\n",
       "      <th>x.crcrec</th>\n",
       "      <th>x.aidtst3</th>\n",
       "      <th>x.impeduc</th>\n",
       "      <th>x.impmrtl</th>\n",
       "      <th>x.imphome</th>\n",
       "      <th>rcsbrac1</th>\n",
       "      <th>rcsrace1</th>\n",
       "      <th>rchisla1</th>\n",
       "      <th>rcsbirth</th>\n",
       "    </tr>\n",
       "  </thead>\n",
       "  <tbody>\n",
       "    <tr>\n",
       "      <th>0</th>\n",
       "      <td>1</td>\n",
       "      <td>1</td>\n",
       "      <td>1</td>\n",
       "      <td>1172014</td>\n",
       "      <td>1</td>\n",
       "      <td>17</td>\n",
       "      <td>2014</td>\n",
       "      <td>1100</td>\n",
       "      <td>2014000001</td>\n",
       "      <td>2014000001</td>\n",
       "      <td>...</td>\n",
       "      <td>2</td>\n",
       "      <td>1</td>\n",
       "      <td>2</td>\n",
       "      <td>5</td>\n",
       "      <td>1</td>\n",
       "      <td>1</td>\n",
       "      <td>NaN</td>\n",
       "      <td>NaN</td>\n",
       "      <td>NaN</td>\n",
       "      <td>NaN</td>\n",
       "    </tr>\n",
       "    <tr>\n",
       "      <th>1</th>\n",
       "      <td>2</td>\n",
       "      <td>1</td>\n",
       "      <td>1</td>\n",
       "      <td>1072014</td>\n",
       "      <td>1</td>\n",
       "      <td>7</td>\n",
       "      <td>2014</td>\n",
       "      <td>1100</td>\n",
       "      <td>2014000002</td>\n",
       "      <td>2014000002</td>\n",
       "      <td>...</td>\n",
       "      <td>2</td>\n",
       "      <td>2</td>\n",
       "      <td>2</td>\n",
       "      <td>4</td>\n",
       "      <td>1</td>\n",
       "      <td>1</td>\n",
       "      <td>NaN</td>\n",
       "      <td>NaN</td>\n",
       "      <td>NaN</td>\n",
       "      <td>NaN</td>\n",
       "    </tr>\n",
       "    <tr>\n",
       "      <th>2</th>\n",
       "      <td>3</td>\n",
       "      <td>1</td>\n",
       "      <td>1</td>\n",
       "      <td>1092014</td>\n",
       "      <td>1</td>\n",
       "      <td>9</td>\n",
       "      <td>2014</td>\n",
       "      <td>1100</td>\n",
       "      <td>2014000003</td>\n",
       "      <td>2014000003</td>\n",
       "      <td>...</td>\n",
       "      <td>2</td>\n",
       "      <td>2</td>\n",
       "      <td>2</td>\n",
       "      <td>6</td>\n",
       "      <td>1</td>\n",
       "      <td>1</td>\n",
       "      <td>NaN</td>\n",
       "      <td>NaN</td>\n",
       "      <td>NaN</td>\n",
       "      <td>NaN</td>\n",
       "    </tr>\n",
       "    <tr>\n",
       "      <th>3</th>\n",
       "      <td>4</td>\n",
       "      <td>1</td>\n",
       "      <td>1</td>\n",
       "      <td>1072014</td>\n",
       "      <td>1</td>\n",
       "      <td>7</td>\n",
       "      <td>2014</td>\n",
       "      <td>1100</td>\n",
       "      <td>2014000004</td>\n",
       "      <td>2014000004</td>\n",
       "      <td>...</td>\n",
       "      <td>2</td>\n",
       "      <td>1</td>\n",
       "      <td>2</td>\n",
       "      <td>6</td>\n",
       "      <td>3</td>\n",
       "      <td>1</td>\n",
       "      <td>NaN</td>\n",
       "      <td>NaN</td>\n",
       "      <td>NaN</td>\n",
       "      <td>NaN</td>\n",
       "    </tr>\n",
       "    <tr>\n",
       "      <th>4</th>\n",
       "      <td>5</td>\n",
       "      <td>1</td>\n",
       "      <td>1</td>\n",
       "      <td>1162014</td>\n",
       "      <td>1</td>\n",
       "      <td>16</td>\n",
       "      <td>2014</td>\n",
       "      <td>1100</td>\n",
       "      <td>2014000005</td>\n",
       "      <td>2014000005</td>\n",
       "      <td>...</td>\n",
       "      <td>2</td>\n",
       "      <td>1</td>\n",
       "      <td>2</td>\n",
       "      <td>5</td>\n",
       "      <td>1</td>\n",
       "      <td>1</td>\n",
       "      <td>NaN</td>\n",
       "      <td>NaN</td>\n",
       "      <td>NaN</td>\n",
       "      <td>NaN</td>\n",
       "    </tr>\n",
       "  </tbody>\n",
       "</table>\n",
       "<p>5 rows × 280 columns</p>\n",
       "</div>"
      ],
      "text/plain": [
       "   Unnamed: 0  x.state  fmonth    idate  imonth  iday  iyear  dispcode  \\\n",
       "0           1        1       1  1172014       1    17   2014      1100   \n",
       "1           2        1       1  1072014       1     7   2014      1100   \n",
       "2           3        1       1  1092014       1     9   2014      1100   \n",
       "3           4        1       1  1072014       1     7   2014      1100   \n",
       "4           5        1       1  1162014       1    16   2014      1100   \n",
       "\n",
       "        seqno       x.psu    ...     x.fobtfs  x.crcrec  x.aidtst3  x.impeduc  \\\n",
       "0  2014000001  2014000001    ...            2         1          2          5   \n",
       "1  2014000002  2014000002    ...            2         2          2          4   \n",
       "2  2014000003  2014000003    ...            2         2          2          6   \n",
       "3  2014000004  2014000004    ...            2         1          2          6   \n",
       "4  2014000005  2014000005    ...            2         1          2          5   \n",
       "\n",
       "   x.impmrtl  x.imphome  rcsbrac1  rcsrace1  rchisla1  rcsbirth  \n",
       "0          1          1       NaN       NaN       NaN       NaN  \n",
       "1          1          1       NaN       NaN       NaN       NaN  \n",
       "2          1          1       NaN       NaN       NaN       NaN  \n",
       "3          3          1       NaN       NaN       NaN       NaN  \n",
       "4          1          1       NaN       NaN       NaN       NaN  \n",
       "\n",
       "[5 rows x 280 columns]"
      ]
     },
     "execution_count": 9,
     "metadata": {},
     "output_type": "execute_result"
    }
   ],
   "source": [
    "b = b[:10000]\n",
    "b.head()"
   ]
  },
  {
   "cell_type": "code",
   "execution_count": 4,
   "metadata": {
    "collapsed": false
   },
   "outputs": [
    {
     "name": "stdout",
     "output_type": "stream",
     "text": [
      "Number of rows: 464664\n",
      "Number of columns: 280\n",
      "Index([u'Unnamed: 0', u'x.state', u'fmonth', u'idate', u'imonth', u'iday',\n",
      "       u'iyear', u'dispcode', u'seqno', u'x.psu',\n",
      "       ...\n",
      "       u'x.fobtfs', u'x.crcrec', u'x.aidtst3', u'x.impeduc', u'x.impmrtl',\n",
      "       u'x.imphome', u'rcsbrac1', u'rcsrace1', u'rchisla1', u'rcsbirth'],\n",
      "      dtype='object', length=280)\n"
     ]
    }
   ],
   "source": [
    "print \"Number of rows:\", len(b)\n",
    "print \"Number of columns:\", len(b.columns)\n",
    "print b.columns"
   ]
  },
  {
   "cell_type": "markdown",
   "metadata": {},
   "source": [
    "Get rid of the special codes 77 and 99"
   ]
  },
  {
   "cell_type": "code",
   "execution_count": 5,
   "metadata": {
    "collapsed": false
   },
   "outputs": [
    {
     "name": "stdout",
     "output_type": "stream",
     "text": [
      "8.07833186991\n",
      "7.0655037846\n"
     ]
    }
   ],
   "source": [
    "print b['sleptim1'].mean()\n",
    "b = b[b.sleptim1 != 77]\n",
    "b = b[b.sleptim1 != 99]\n",
    "print b['sleptim1'].mean()"
   ]
  },
  {
   "cell_type": "markdown",
   "metadata": {
    "collapsed": true
   },
   "source": [
    "The website says that the data should include questions about snoring and how often they feel tired during the day, but we could not find the column id for those. We will look into this further in the future."
   ]
  },
  {
   "cell_type": "code",
   "execution_count": 14,
   "metadata": {
    "collapsed": false
   },
   "outputs": [],
   "source": [
    "sleptim = b['sleptim1']\n",
    "marital = b['marital']\n",
    "children = b['children']\n",
    "employ = b['employ1']\n",
    "income = b['income2']\n",
    "weight = b['weight2']\n",
    "height = b['height3']\n",
    "sex = b['sex']\n",
    "useequip = b['useequip']"
   ]
  },
  {
   "cell_type": "markdown",
   "metadata": {},
   "source": [
    "We tried to find a column for age but there doesn't seem to be any..."
   ]
  },
  {
   "cell_type": "code",
   "execution_count": 11,
   "metadata": {
    "collapsed": true
   },
   "outputs": [],
   "source": [
    "from sklearn.linear_model import LinearRegression\n",
    "from sklearn.cross_validation import KFold\n",
    "from sklearn.ensemble import RandomForestClassifier\n",
    "from sklearn.ensemble import GradientBoostingClassifier"
   ]
  },
  {
   "cell_type": "markdown",
   "metadata": {},
   "source": [
    "First iteration of a Random Forest:"
   ]
  },
  {
   "cell_type": "code",
   "execution_count": 14,
   "metadata": {
    "collapsed": false
   },
   "outputs": [
    {
     "name": "stdout",
     "output_type": "stream",
     "text": [
      "6\n",
      "0.291868126696\n"
     ]
    },
    {
     "name": "stderr",
     "output_type": "stream",
     "text": [
      "/usr/local/lib/python2.7/dist-packages/ipykernel/__main__.py:31: FutureWarning: in the future, boolean array-likes will be handled as a boolean array index\n",
      "/usr/local/lib/python2.7/dist-packages/sklearn/cross_validation.py:516: Warning: The least populated class in y has only 1 members, which is too few. The minimum number of labels for any class cannot be less than n_folds=3.\n",
      "  % (min_labels, self.n_folds)), Warning)\n"
     ]
    }
   ],
   "source": [
    "predictors = ['marital', 'children', 'employ1', 'income2', 'weight2', 'height3', 'sex', 'useequip']\n",
    "\n",
    "b = b.dropna(subset=['marital', 'children', 'employ1', 'income2', 'weight2', 'height3', 'sex', 'useequip'])\n",
    "\n",
    "# Initialize our algorithm class\n",
    "# alg = LinearRegression()\n",
    "alg = RandomForestClassifier()\n",
    "# Generate cross validation folds for the titanic dataset.  It return the row indices corresponding to train and test.\n",
    "# We set random_state to ensure we get the same splits every time we run this.\n",
    "kf = KFold(b.shape[0], n_folds=3, random_state=1)\n",
    "\n",
    "predictions = []\n",
    "for train, test in kf:\n",
    "    # The predictors we're using the train the algorithm.  Note how we only take the rows in the train folds.\n",
    "    train_predictors = (b[predictors].iloc[train,:])\n",
    "    # The target we're using to train the algorithm.\n",
    "    train_target = b[\"sleptim1\"].iloc[train]\n",
    "    # Training the algorithm using the predictors and target.\n",
    "    alg.fit(train_predictors, train_target)\n",
    "    # We can now make predictions on the test fold\n",
    "    test_predictions = alg.predict(b[predictors].iloc[test,:])\n",
    "    predictions.append(test_predictions)\n",
    "    \n",
    "# The predictions are in three separate numpy arrays.  Concatenate them into one.  \n",
    "# We concatenate them on axis 0, as they only have one axis.\n",
    "predictions = np.concatenate(predictions, axis=0)\n",
    "\n",
    "# Map predictions to outcomes (only possible outcomes are 1 and 0)\n",
    "# predictions[predictions > .5] = 1\n",
    "# predictions[predictions <=.5] = 0\n",
    "accuracy = sum(predictions[predictions == b[\"sleptim1\"]]) / len(predictions)\n",
    "print accuracy\n",
    "from sklearn import cross_validation\n",
    "# from sklearn.linear_model import LogisticRegression\n",
    "\n",
    "# Initialize our algorithm\n",
    "# alg = LogisticRegression(random_state=1)\n",
    "alg = RandomForestClassifier(random_state=1, n_estimators=150, min_samples_split=8, min_samples_leaf=4)\n",
    "\n",
    "# Compute the accuracy score for all the cross validation folds.  (much simpler than what we did before!)\n",
    "scores = cross_validation.cross_val_score(alg, b[predictors], b[\"sleptim1\"], cv=3)\n",
    "# Take the mean of the scores (because we have one for each fold)\n",
    "print scores.mean()"
   ]
  },
  {
   "cell_type": "markdown",
   "metadata": {},
   "source": []
  }
 ],
 "metadata": {
  "kernelspec": {
   "display_name": "Python 2",
   "language": "python",
   "name": "python2"
  },
  "language_info": {
   "codemirror_mode": {
    "name": "ipython",
    "version": 2
   },
   "file_extension": ".py",
   "mimetype": "text/x-python",
   "name": "python",
   "nbconvert_exporter": "python",
   "pygments_lexer": "ipython2",
   "version": "2.7.6"
  }
 },
 "nbformat": 4,
 "nbformat_minor": 0
}
